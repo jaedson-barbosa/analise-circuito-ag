{
 "cells": [
  {
   "cell_type": "code",
   "execution_count": null,
   "metadata": {},
   "outputs": [],
   "source": [
    "from index import main\n",
    "\n",
    "r_cross_opts = (0.6, 0.7, 0.8, 0.9, 1)\n",
    "r_mut_opts = (0, 0.25, 0.5, 0.75, 1)\n",
    "results_pop_10_roulette = list()\n",
    "results_pop_10_tournament = list()\n",
    "results_pop_20_roulette = list()\n",
    "results_pop_20_tournament = list()\n",
    "\n",
    "for r_cross in r_cross_opts:\n",
    "  row_results_pop_10_roulette = list()\n",
    "  row_results_pop_10_tournament = list()\n",
    "  row_results_pop_20_roulette = list()\n",
    "  row_results_pop_20_tournament = list()\n",
    "\n",
    "  for r_mut in r_mut_opts:\n",
    "    print((r_cross, r_mut))\n",
    "    row_results_pop_10_roulette.append(main('roulette', 10, r_cross, r_mut))\n",
    "    row_results_pop_10_tournament.append(main('tournament', 10, r_cross, r_mut))\n",
    "    row_results_pop_20_roulette.append(main('roulette', 20, r_cross, r_mut))\n",
    "    row_results_pop_20_tournament.append(main('tournament', 20, r_cross, r_mut))\n",
    "\n",
    "  results_pop_10_roulette.append(row_results_pop_10_roulette)\n",
    "  results_pop_10_tournament.append(row_results_pop_10_tournament)\n",
    "  results_pop_20_roulette.append(row_results_pop_20_roulette)\n",
    "  results_pop_20_tournament.append(row_results_pop_20_tournament)"
   ]
  },
  {
   "cell_type": "code",
   "execution_count": null,
   "metadata": {},
   "outputs": [],
   "source": [
    "import matplotlib.pyplot as plt\n",
    "from matplotlib import cm\n",
    "from matplotlib.ticker import LinearLocator\n",
    "import numpy as np\n",
    "\n",
    "X, Y = np.meshgrid(r_mut_opts, r_cross_opts)\n",
    "\n",
    "def plot_colormesh(func, vmax = 25):\n",
    "  calc_z = lambda results: np.array([[func([len(sim_result[2]) for sim_result in col]) for col in row] for row in results])\n",
    "  fig, ax = plt.subplots(2, 2, sharex=True, sharey=True)\n",
    "\n",
    "  fig.set_figwidth(10)\n",
    "  fig.set_figheight(12)\n",
    "\n",
    "  meshopts = {'cmap': 'coolwarm', 'vmin': 0, 'vmax': vmax}\n",
    "  surf = ax[0][0].pcolormesh(X, Y, calc_z(results_pop_10_roulette), **meshopts)\n",
    "  ax[0][0].set_xlabel('mutation rate')\n",
    "  ax[0][0].set_ylabel('crossover rate')\n",
    "  ax[0][0].set_title('Population=10 (Roulette)')\n",
    "\n",
    "  surf = ax[0][1].pcolormesh(X, Y, calc_z(results_pop_10_tournament), **meshopts)\n",
    "  ax[0][1].set_xlabel('mutation rate')\n",
    "  ax[0][1].set_ylabel('crossover rate')\n",
    "  ax[0][1].set_title('Population=10 (Tournament)')\n",
    "\n",
    "  surf = ax[1][0].pcolormesh(X, Y, calc_z(results_pop_20_roulette), **meshopts)\n",
    "  ax[1][0].set_xlabel('mutation rate')\n",
    "  ax[1][0].set_ylabel('crossover rate')\n",
    "  ax[1][0].set_title('Population=20 (Roulette)')\n",
    "\n",
    "  surf = ax[1][1].pcolormesh(X, Y, calc_z(results_pop_20_tournament), **meshopts)\n",
    "  ax[1][1].set_xlabel('mutation rate')\n",
    "  ax[1][1].set_ylabel('crossover rate')\n",
    "  ax[1][1].set_title('Population=20 (Tournament)')\n",
    "\n",
    "  fig.colorbar(surf, ax=ax, orientation='horizontal', pad=0.07)\n"
   ]
  },
  {
   "cell_type": "code",
   "execution_count": null,
   "metadata": {},
   "outputs": [],
   "source": [
    "from statistics import mean\n",
    "plot_colormesh(mean)"
   ]
  },
  {
   "cell_type": "code",
   "execution_count": null,
   "metadata": {},
   "outputs": [],
   "source": [
    "plot_colormesh(max)"
   ]
  },
  {
   "cell_type": "code",
   "execution_count": null,
   "metadata": {},
   "outputs": [],
   "source": [
    "plot_colormesh(min)"
   ]
  },
  {
   "cell_type": "code",
   "execution_count": null,
   "metadata": {},
   "outputs": [],
   "source": [
    "plt.figure()\n",
    "\n",
    "quant_normal = 0\n",
    "quant_primeira = 0\n",
    "quant_nunca = 0\n",
    "\n",
    "for result in (results_pop_10_roulette, results_pop_10_tournament, results_pop_20_roulette, results_pop_20_tournament):\n",
    "  for row in results_pop_10_tournament:\n",
    "    for col in row:\n",
    "      for sim_result in col:\n",
    "        scores_history = sim_result[2][0:25]\n",
    "        if len(scores_history) == 0:\n",
    "          quant_primeira += 1\n",
    "          continue\n",
    "        if sim_result[1] < 1.999:\n",
    "          quant_nunca += 1\n",
    "          continue\n",
    "        if len(scores_history) < 25:\n",
    "          last_score = scores_history[len(scores_history) - 1]\n",
    "          scores_history += [last_score] * (25 - len(scores_history))\n",
    "        plt.plot(range(1,26), scores_history, linewidth=0.1, color='black')\n",
    "        quant_normal += 1\n",
    "plt.xlabel('Number of generations')\n",
    "plt.ylabel('Delivered power')\n",
    "quant_normal, quant_primeira, quant_nunca"
   ]
  }
 ],
 "metadata": {
  "kernelspec": {
   "display_name": "Python 3.10.7 64-bit",
   "language": "python",
   "name": "python3"
  },
  "language_info": {
   "codemirror_mode": {
    "name": "ipython",
    "version": 3
   },
   "file_extension": ".py",
   "mimetype": "text/x-python",
   "name": "python",
   "nbconvert_exporter": "python",
   "pygments_lexer": "ipython3",
   "version": "3.10.7"
  },
  "orig_nbformat": 4,
  "vscode": {
   "interpreter": {
    "hash": "e7370f93d1d0cde622a1f8e1c04877d8463912d04d973331ad4851f04de6915a"
   }
  }
 },
 "nbformat": 4,
 "nbformat_minor": 2
}
